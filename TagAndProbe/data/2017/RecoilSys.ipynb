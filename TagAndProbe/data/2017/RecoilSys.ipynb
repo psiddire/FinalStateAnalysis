{
 "cells": [
  {
   "cell_type": "code",
   "execution_count": 1,
   "metadata": {
    "collapsed": false
   },
   "outputs": [
    {
     "name": "stdout",
     "output_type": "stream",
     "text": [
      "Welcome to JupyROOT 6.10/09\n"
     ]
    }
   ],
   "source": [
    "import os\n",
    "import sys\n",
    "import re\n",
    "import ROOT\n",
    "import math"
   ]
  },
  {
   "cell_type": "code",
   "execution_count": 2,
   "metadata": {
    "collapsed": false
   },
   "outputs": [
    {
     "name": "stdout",
     "output_type": "stream",
     "text": [
      "Systematics :  V    Response   NJet0  =  0.023\n",
      "Systematics :  V    Response   NJet1  =  0.027\n",
      "Systematics :  V    Response   NJetGe2  =  0.03\n",
      "Systematics :  V    Resolution   NJet0  =  0.022\n",
      "Systematics :  V    Resolution   NJet1  =  0.025\n",
      "Systematics :  V    Resolution   NJetGe2  =  0.033\n",
      "Systematics :  EWK    Response   NJet0  =  0.08\n",
      "Systematics :  EWK    Response   NJet1  =  0.05\n",
      "Systematics :  EWK    Response   NJetGe2  =  0.03\n",
      "Systematics :  EWK    Resolution   NJet0  =  0.11\n",
      "Systematics :  EWK    Resolution   NJet1  =  0.08\n",
      "Systematics :  EWK    Resolution   NJetGe2  =  0.05\n",
      "Systematics :  TOP    Response   NJet0  =  0.08\n",
      "Systematics :  TOP    Response   NJet1  =  0.05\n",
      "Systematics :  TOP    Response   NJetGe2  =  0.03\n",
      "Systematics :  TOP    Resolution   NJet0  =  0.11\n",
      "Systematics :  TOP    Resolution   NJet1  =  0.08\n",
      "Systematics :  TOP    Resolution   NJetGe2  =  0.05\n",
      "V_NJet0\n",
      "V_NJet1\n",
      "V_NJetGe2\n",
      "EWK_NJet0\n",
      "EWK_NJet1\n",
      "EWK_NJetGe2\n",
      "TOP_NJet0\n",
      "TOP_NJet1\n",
      "TOP_NJetGe2\n"
     ]
    }
   ],
   "source": [
    "File = ROOT.TFile.Open(\"MEtSys_2017.root\")\n",
    "\n",
    "typeBkgdH = File.Get(\"typeBkgdH\")\n",
    "if (typeBkgdH == None):\n",
    "    print \"File should contain histogram with the name typeBkgdH \"\n",
    "    sys.exit(-1)\n",
    "\n",
    "jetBinsH = File.Get(\"jetBinsH\")\n",
    "if (jetBinsH == None):\n",
    "    print \"File should contain histogram with the name jetBinsH \"\n",
    "    sys.exit(-1)\n",
    "\n",
    "nBkgdTypes = typeBkgdH.GetNbinsX()\n",
    "Bkgd = []\n",
    "nJetBins = jetBinsH.GetNbinsX()\n",
    "JetBins = []\n",
    "\n",
    "for i in range(nBkgdTypes):\n",
    "    Bkgd.append(typeBkgdH.GetXaxis().GetBinLabel(i+1))\n",
    "for i in range(nJetBins):\n",
    "    JetBins.append(jetBinsH.GetXaxis().GetBinLabel(i+1))\n",
    "\n",
    "uncType = [\"Response\", \"Resolution\"]\n",
    "\n",
    "sysUnc = [[[] for x in range(2)] for y in range(nBkgdTypes)]\n",
    "\n",
    "for i in range(nBkgdTypes):\n",
    "    histName = Bkgd[i]+\"_syst\"\n",
    "    hist = File.Get(histName)\n",
    "    if (hist == None):\n",
    "        print \"Histogram \", histName, \" should be contained in file\"\n",
    "        sys.exit(-1)\n",
    "    for xBin in range(2):\n",
    "        for yBin in range(3):\n",
    "            sysUnc[i][xBin].append(hist.GetBinContent(xBin+1,yBin+1))\n",
    "            print \"Systematics : \", Bkgd[i], \"  \", uncType[xBin], \" \", JetBins[yBin], \" = \", sysUnc[i][xBin][yBin]\n",
    "\n",
    "responseHist = [[] for x in range(nBkgdTypes)]\n",
    "\n",
    "for i in range(nBkgdTypes):\n",
    "    for j in range(nJetBins):\n",
    "        histName = Bkgd[i]+\"_\"+JetBins[j]\n",
    "        print histName\n",
    "        responseHist[i].append(File.Get(histName))\n",
    "        if (responseHist[i][j] == None):\n",
    "            print \"Histogram \", histName, \" should be contained in file\"\n",
    "            sys.exit(-1)"
   ]
  },
  {
   "cell_type": "code",
   "execution_count": 10,
   "metadata": {
    "collapsed": false
   },
   "outputs": [
    {
     "name": "stderr",
     "output_type": "stream",
     "text": [
      "Warning in <TCanvas::Constructor>: Deleting canvas with same name: canvas\n"
     ]
    },
    {
     "data": {
      "image/png": "[encoded data removed]",
      "text/plain": [
       "<IPython.core.display.Image object>"
      ]
     },
     "metadata": {},
     "output_type": "display_data"
    }
   ],
   "source": [
    "canvas = ROOT.TCanvas('canvas','canvas',800,800)\n",
    "responseHist[0][1].Draw()\n",
    "canvas.Draw()"
   ]
  },
  {
   "cell_type": "code",
   "execution_count": 21,
   "metadata": {
    "collapsed": false
   },
   "outputs": [
    {
     "data": {
      "text/plain": [
       "-6.908568920113688"
      ]
     },
     "execution_count": 21,
     "metadata": {},
     "output_type": "execute_result"
    }
   ],
   "source": [
    "x = -responseHist[0][0].Interpolate(1)*11\n",
    "x"
   ]
  },
  {
   "cell_type": "code",
   "execution_count": null,
   "metadata": {
    "collapsed": true
   },
   "outputs": [],
   "source": []
  }
 ],
 "metadata": {
  "kernelspec": {
   "display_name": "Python 2",
   "language": "python",
   "name": "python2"
  },
  "language_info": {
   "codemirror_mode": {
    "name": "ipython",
    "version": 2
   },
   "file_extension": ".py",
   "mimetype": "text/x-python",
   "name": "python",
   "nbconvert_exporter": "python",
   "pygments_lexer": "ipython2",
   "version": "2.7.11"
  }
 },
 "nbformat": 4,
 "nbformat_minor": 2
}
