{
 "cells": [
  {
   "cell_type": "code",
   "execution_count": 6,
   "metadata": {},
   "outputs": [],
   "source": [
    "import os\n",
    "from sys import argv, stdout, stderr\n",
    "from ROOT import TCanvas, TLegend, gROOT, TFile, gPad, TPad, TF1, gStyle, TRatioPlot, TH2F\n",
    "from rootpy.plotting import Graph\n",
    "import sys\n",
    "gROOT.SetStyle(\"Plain\")\n",
    "gROOT.SetBatch(True)\n",
    "import numpy as np"
   ]
  },
  {
   "cell_type": "code",
   "execution_count": 41,
   "metadata": {},
   "outputs": [],
   "source": [
    "eta = np.arange(-2.4,2.4,0.024)"
   ]
  },
  {
   "cell_type": "code",
   "execution_count": 19,
   "metadata": {},
   "outputs": [
    {
     "data": {
      "text/plain": [
       "24504"
      ]
     },
     "execution_count": 19,
     "metadata": {},
     "output_type": "execute_result"
    },
    {
     "name": "stdout",
     "output_type": "stream",
     "text": [
      "[#1] INFO:ObjectHandling -- RooWorkspace::CodeRepo::compileClasses() Embedded class CrystalBallEfficiency already in ROOT class table, skipping\n"
     ]
    }
   ],
   "source": [
    "f = TFile(\"htt_scalefactors_v16_12_embedded.root\")\n",
    "w = f.Get(\"w\")\n",
    "f1 = TFile(\"Embedded.root\", \"RECREATE\") \n",
    "h1 = TH2F(\"m_sel_idEmb\", \"\", 200, 0, 200, 200, -2.4, 2.4)\n",
    "h2 = TH2F(\"m_sel_trg8\", \"\", 200, 0, 200, 200, -2.4, 2.4)\n",
    "h3 = TH2F(\"m_sel_trg17\", \"\", 200, 0, 200, 200, -2.4, 2.4)\n",
    "for i in range(200):\n",
    "    for j in range(200):\n",
    "        w.var(\"gt_pt\").setVal(i)                                                                                                                                                                                                           \n",
    "        w.var(\"gt_eta\").setVal(eta[j])                                                                                                                                                                                                      \n",
    "        msel = w.function(\"m_sel_idEmb_ratio\").getVal()                                                                                                                                                                                                                 \n",
    "        h1.Fill(i, eta[j], msel)\n",
    "f1.Write()"
   ]
  },
  {
   "cell_type": "code",
   "execution_count": 31,
   "metadata": {},
   "outputs": [
    {
     "data": {
      "text/plain": [
       "1.0332683526016293"
      ]
     },
     "execution_count": 31,
     "metadata": {},
     "output_type": "execute_result"
    }
   ],
   "source": [
    "w.var(\"gt_pt\").setVal(100)                                                                                                                                                                                                                              \n",
    "w.var(\"gt_eta\").setVal(-2.2)\n",
    "w.function(\"m_sel_idEmb_ratio\").getVal() "
   ]
  },
  {
   "cell_type": "code",
   "execution_count": 32,
   "metadata": {},
   "outputs": [
    {
     "data": {
      "text/plain": [
       "2.0"
      ]
     },
     "execution_count": 32,
     "metadata": {},
     "output_type": "execute_result"
    }
   ],
   "source": [
    "w.function(\"m_sel_trg_ratio\").getVal() "
   ]
  },
  {
   "cell_type": "code",
   "execution_count": 33,
   "metadata": {},
   "outputs": [
    {
     "data": {
      "text/plain": [
       "0.002613184301951029"
      ]
     },
     "execution_count": 33,
     "metadata": {},
     "output_type": "execute_result"
    }
   ],
   "source": [
    "w.function(\"m_sel_trg_data\").getVal() "
   ]
  },
  {
   "cell_type": "code",
   "execution_count": 34,
   "metadata": {},
   "outputs": [
    {
     "data": {
      "text/plain": [
       "0.6996303200721741"
      ]
     },
     "execution_count": 34,
     "metadata": {},
     "output_type": "execute_result"
    }
   ],
   "source": [
    "w.function(\"m_sel_trg8_1_data\").getVal() "
   ]
  },
  {
   "cell_type": "code",
   "execution_count": 35,
   "metadata": {},
   "outputs": [
    {
     "data": {
      "text/plain": [
       "0.6996303200721741"
      ]
     },
     "execution_count": 35,
     "metadata": {},
     "output_type": "execute_result"
    }
   ],
   "source": [
    "w.function(\"m_sel_trg8_2_data\").getVal() "
   ]
  },
  {
   "cell_type": "code",
   "execution_count": 37,
   "metadata": {},
   "outputs": [
    {
     "data": {
      "text/plain": [
       "0.9305842518806458"
      ]
     },
     "execution_count": 37,
     "metadata": {},
     "output_type": "execute_result"
    }
   ],
   "source": [
    "w.var(\"gt1_pt\").setVal(100)                                                                                                                                                                                                                              \n",
    "w.var(\"gt1_eta\").setVal(-2.2)\n",
    "w.function(\"m_sel_trg8_1_data\").getVal()"
   ]
  },
  {
   "cell_type": "code",
   "execution_count": 39,
   "metadata": {},
   "outputs": [
    {
     "data": {
      "text/plain": [
       "0.9305842518806458"
      ]
     },
     "execution_count": 39,
     "metadata": {},
     "output_type": "execute_result"
    }
   ],
   "source": [
    "w.var(\"gt2_pt\").setVal(100)                                                                                                                                                                                                                              \n",
    "w.var(\"gt2_eta\").setVal(2.2)\n",
    "w.function(\"m_sel_trg8_2_data\").getVal()"
   ]
  },
  {
   "cell_type": "code",
   "execution_count": null,
   "metadata": {},
   "outputs": [],
   "source": []
  }
 ],
 "metadata": {
  "kernelspec": {
   "display_name": "Python 2",
   "language": "python",
   "name": "python2"
  },
  "language_info": {
   "codemirror_mode": {
    "name": "ipython",
    "version": 2
   },
   "file_extension": ".py",
   "mimetype": "text/x-python",
   "name": "python",
   "nbconvert_exporter": "python",
   "pygments_lexer": "ipython2",
   "version": "2.7.14+"
  }
 },
 "nbformat": 4,
 "nbformat_minor": 2
}
