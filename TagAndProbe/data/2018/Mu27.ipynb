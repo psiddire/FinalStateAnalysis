{
 "cells": [
  {
   "cell_type": "code",
   "execution_count": 9,
   "metadata": {},
   "outputs": [],
   "source": [
    "import os\n",
    "from sys import argv, stdout, stderr\n",
    "from ROOT import TCanvas, TLegend, gROOT, TFile, gPad, TPad, TF1, gStyle, TRatioPlot\n",
    "from rootpy.plotting import Graph\n",
    "import sys\n",
    "gROOT.SetStyle(\"Plain\")\n",
    "gROOT.SetBatch(True)"
   ]
  },
  {
   "cell_type": "code",
   "execution_count": 21,
   "metadata": {},
   "outputs": [
    {
     "name": "stderr",
     "output_type": "stream",
     "text": [
      "WARNING:ROOT.TCanvas.Constructor] Deleting canvas with same name: canvas\n"
     ]
    },
    {
     "ename": "AttributeError",
     "evalue": "'TGraphAsymmErrors' object has no attribute 'GetBinContent'",
     "output_type": "error",
     "traceback": [
      "\u001b[0;31m\u001b[0m",
      "\u001b[0;31mAttributeError\u001b[0mTraceback (most recent call last)",
      "\u001b[0;32m<ipython-input-21-0e5702e06529>\u001b[0m in \u001b[0;36m<module>\u001b[0;34m()\u001b[0m\n\u001b[1;32m     13\u001b[0m \u001b[0mhdg\u001b[0m\u001b[0;34m.\u001b[0m\u001b[0mDraw\u001b[0m\u001b[0;34m(\u001b[0m\u001b[0;34m)\u001b[0m\u001b[0;34m\u001b[0m\u001b[0m\n\u001b[1;32m     14\u001b[0m \u001b[0mhmg\u001b[0m\u001b[0;34m.\u001b[0m\u001b[0mDraw\u001b[0m\u001b[0;34m(\u001b[0m\u001b[0;34m\"SAME\"\u001b[0m\u001b[0;34m)\u001b[0m\u001b[0;34m\u001b[0m\u001b[0m\n\u001b[0;32m---> 15\u001b[0;31m \u001b[0;32mprint\u001b[0m \u001b[0mhdg\u001b[0m\u001b[0;34m.\u001b[0m\u001b[0mGetBinContent\u001b[0m\u001b[0;34m(\u001b[0m\u001b[0;36m0\u001b[0m\u001b[0;34m)\u001b[0m\u001b[0;34m\u001b[0m\u001b[0m\n\u001b[0m\u001b[1;32m     16\u001b[0m \u001b[0mcanvas\u001b[0m\u001b[0;34m.\u001b[0m\u001b[0mDraw\u001b[0m\u001b[0;34m(\u001b[0m\u001b[0;34m)\u001b[0m\u001b[0;34m\u001b[0m\u001b[0m\n",
      "\u001b[0;31mAttributeError\u001b[0m: 'TGraphAsymmErrors' object has no attribute 'GetBinContent'"
     ]
    }
   ],
   "source": [
    "canvas = TCanvas('canvas','canvas',800,800)\n",
    "fi = TFile('Muon_Run2018_IsoMu27.root')\n",
    "hdg = fi.Get('ZMassEtaLt0p9_Data')\n",
    "hmg = fi.Get('ZMassEtaLt0p9_MC')\n",
    "hmg.SetLineColor(2)\n",
    "#for i in range(hdg.GetN()):\n",
    "#    hdg.GetPoint(i, x, y)\n",
    "#    hdata.Fill(x,y)\n",
    "#for i in range(hmg.GetN()):\n",
    "#    hmg.GetPoint(i, x, y)\n",
    "#    hmv.Fill(x,y)\n",
    "#h = TRatioPlot(hdata, hmc)\n",
    "hdg.Draw()\n",
    "hmg.Draw(\"SAME\")\n",
    "print hdg.GetBinContent(0)\n",
    "canvas.Draw()\n",
    "\n",
    "\n",
    "\n",
    "for n in range(0, hdg.GetN()):\n",
    "    xval = ROOT.Double(0)\n",
    "    yval = ROOT.Double(0)\n",
    "    gr1.GetPoint(n, xval, yval)\n",
    "    xevalp = gr1.GetErrorXhigh(n)\n",
    "    xevalm = gr1.GetErrorXlow(n)\n",
    "    yeval = gr1.GetErrorY(n)\n",
    "    pt_thrs = xval-xevalm, xval+xevalp\n",
    "    if pt_thrs not in self.table:\n",
    "        self.table[pt_thrs] = {}\n",
    "    self.table[pt_thrs][eta_thrs] = yval, yval-yeval \n"
   ]
  },
  {
   "cell_type": "code",
   "execution_count": null,
   "metadata": {},
   "outputs": [],
   "source": []
  }
 ],
 "metadata": {
  "kernelspec": {
   "display_name": "Python 2",
   "language": "python",
   "name": "python2"
  },
  "language_info": {
   "codemirror_mode": {
    "name": "ipython",
    "version": 2
   },
   "file_extension": ".py",
   "mimetype": "text/x-python",
   "name": "python",
   "nbconvert_exporter": "python",
   "pygments_lexer": "ipython2",
   "version": "2.7.14+"
  }
 },
 "nbformat": 4,
 "nbformat_minor": 2
}
